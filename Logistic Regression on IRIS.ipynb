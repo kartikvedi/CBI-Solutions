{
 "cells": [
  {
   "cell_type": "code",
   "execution_count": 2,
   "id": "18121861",
   "metadata": {},
   "outputs": [],
   "source": [
    "import numpy as np\n",
    "from sklearn.datasets import load_iris\n",
    "from sklearn.linear_model import LogisticRegression\n",
    "from sklearn.metrics import accuracy_score\n",
    "from sklearn.preprocessing import StandardScaler, PolynomialFeatures\n",
    "from sklearn.model_selection import train_test_split, GridSearchCV"
   ]
  },
  {
   "cell_type": "code",
   "execution_count": 3,
   "id": "5938bbf7",
   "metadata": {},
   "outputs": [
    {
     "name": "stdout",
     "output_type": "stream",
     "text": [
      "(150, 4)\n",
      "(150,)\n",
      "Test  1: 50, 2: 50, 3: 50\n",
      "Train 1: 50, 2: 50, 3: 50\n"
     ]
    }
   ],
   "source": [
    "#Load Iris dataset\n",
    "iris = load_iris()\n",
    "X_iris = iris.data\n",
    "y_iris = iris.target\n",
    "\n",
    "#Check the shape of data\n",
    "print (X_iris.shape)\n",
    "print (y_iris.shape)\n",
    "\n",
    "#Check if sets balanced\n",
    "print ('Test  1: {}, 2: {}, 3: {}'.format(np.sum(y_iris == 0), np.sum(y_iris == 1), np.sum(y_iris == 2) ) )\n",
    "print ('Train 1: {}, 2: {}, 3: {}'.format(np.sum(y_iris == 0), np.sum(y_iris == 1), np.sum(y_iris == 2) ) )"
   ]
  },
  {
   "cell_type": "code",
   "execution_count": 4,
   "id": "a32a8406",
   "metadata": {},
   "outputs": [],
   "source": [
    "#Create separate each feature array\n",
    "a = X_iris[:,0]\n",
    "b = X_iris[:,1]\n",
    "c = X_iris[:,2]\n",
    "d = X_iris[:,3]\n",
    "\n",
    "\n",
    "#Scale X data\n",
    "scaler = StandardScaler()\n",
    "scaler.fit_transform (X_iris,y_iris)\n",
    "X_scaled = scaler.transform (X_iris)\n",
    "\n",
    "\n",
    "#Make modified features sets with squares of each feature\n",
    "X_squares   =  np.vstack (([a**2], [b**2], [c **2], [d**2])).T\n",
    "\n",
    "#Make modified features set with multiplied pairs of each feature\n",
    "X_multi = np.vstack ((a*b, a*c, a*d, b*c, b*d, c*d)).T\n",
    "\n",
    "#Make polynomial transformation n = 10\n",
    "transform = PolynomialFeatures(10)\n",
    "transform.fit_transform(X_iris)\n",
    "X_poly = transform.transform(X_iris)"
   ]
  },
  {
   "cell_type": "code",
   "execution_count": 5,
   "id": "1c320b97",
   "metadata": {},
   "outputs": [],
   "source": [
    "#Make split for original data\n",
    "(X_tr_o, X_ts_o, y_tr_o, y_ts_o ) = train_test_split(X_iris, y_iris, stratify=y_iris, test_size= 0.3)\n",
    "\n",
    "#Make split for scaled data\n",
    "(X_tr_sc, X_ts_sc, y_tr_sc, y_ts_sc) = train_test_split(X_scaled, y_iris, stratify = y_iris, test_size = 0.30)\n",
    "\n",
    "#Make split of polynomial extended features set\n",
    "(X_tr_p, X_ts_p, y_tr_p, y_ts_p ) = train_test_split(X_poly, y_iris, stratify=y_iris, test_size= 0.3)\n",
    "\n",
    "#Make split of squares of each feature\n",
    "(X_tr_sq, X_ts_sq, y_tr_sq, y_ts_sq ) = train_test_split(X_squares, y_iris, stratify = y_iris, test_size = 0.3)\n",
    "\n",
    "#Make split of  multyplied pairs of each feature\n",
    "(X_tr_m, X_ts_m, y_tr_m, y_ts_m ) = train_test_split(X_multi, y_iris, stratify = y_iris, test_size = 0.3)"
   ]
  },
  {
   "cell_type": "code",
   "execution_count": 6,
   "id": "93954249",
   "metadata": {},
   "outputs": [],
   "source": [
    "#Create estimator class\n",
    "estimator = LogisticRegression()\n",
    "\n",
    "#Create param grid\n",
    "paramgrid = {'C': [0.01, 0.05, 0.1, 0.5, 1, 5, 10], 'penalty': ['l1','l2']}\n",
    "\n",
    "#Create SearchGridCV optimizer\n",
    "optimizer = GridSearchCV(estimator, paramgrid, cv=10)\n",
    "\n",
    "#Fit it for original data\n",
    "optimizer.fit(X_tr_o, y_tr_o)\n",
    "predict = optimizer.best_estimator_.predict(X_ts_o)\n",
    "z_o = accuracy_score(y_ts_o,predict)\n",
    "\n",
    "#Fit it for scaled data\n",
    "optimizer.fit(X_tr_sc, y_tr_sc)\n",
    "predict = optimizer.best_estimator_.predict(X_ts_sc)\n",
    "z_sc = accuracy_score(y_ts_sc,predict)\n",
    "\n",
    "#Fit it for  multiplied and squared features set\n",
    "optimizer.fit(X_tr_p, y_tr_p)\n",
    "predict = optimizer.best_estimator_.predict(X_ts_p)\n",
    "z_p = accuracy_score(y_ts_p,predict)\n",
    "\n",
    "#Fit it for squares only of each feature\n",
    "optimizer.fit(X_tr_sq, y_tr_sq)\n",
    "predict = optimizer.best_estimator_.predict(X_ts_sq)\n",
    "z_sq = accuracy_score(y_ts_sq,predict)\n",
    "\n",
    "#Fit it for multiplaied pairs of features\n",
    "optimizer.fit(X_tr_m, y_tr_m)\n",
    "predict = optimizer.best_estimator_.predict(X_ts_m)\n",
    "z_m = accuracy_score(y_ts_m,predict)"
   ]
  },
  {
   "cell_type": "code",
   "execution_count": 8,
   "id": "e310ee23",
   "metadata": {},
   "outputs": [
    {
     "name": "stdout",
     "output_type": "stream",
     "text": [
      "Accuracy score for original: 1.0\n",
      "Accuracy score for scaled: 0.9333333333333333\n",
      "Accuracy score for polynomial: 0.9333333333333333\n",
      "Accuracy score for squares: 0.9555555555555556\n",
      "Accuracy score for multi: 0.9111111111111111\n"
     ]
    }
   ],
   "source": [
    "print ('Accuracy score for original: {}'.format(  z_o) )\n",
    "print ('Accuracy score for scaled: {}'.format (  z_sc) )\n",
    "print ('Accuracy score for polynomial: {}'.format( z_p) )\n",
    "print ('Accuracy score for squares: {}'.format( z_sq) )\n",
    "print ('Accuracy score for multi: {}'.format(  z_m) )"
   ]
  },
  {
   "cell_type": "code",
   "execution_count": null,
   "id": "3f0502f7",
   "metadata": {},
   "outputs": [],
   "source": []
  }
 ],
 "metadata": {
  "kernelspec": {
   "display_name": "Python 3 (ipykernel)",
   "language": "python",
   "name": "python3"
  },
  "language_info": {
   "codemirror_mode": {
    "name": "ipython",
    "version": 3
   },
   "file_extension": ".py",
   "mimetype": "text/x-python",
   "name": "python",
   "nbconvert_exporter": "python",
   "pygments_lexer": "ipython3",
   "version": "3.9.9"
  },
  "toc": {
   "base_numbering": 1,
   "nav_menu": {},
   "number_sections": true,
   "sideBar": true,
   "skip_h1_title": false,
   "title_cell": "Table of Contents",
   "title_sidebar": "Contents",
   "toc_cell": false,
   "toc_position": {},
   "toc_section_display": true,
   "toc_window_display": false
  },
  "varInspector": {
   "cols": {
    "lenName": 16,
    "lenType": 16,
    "lenVar": 40
   },
   "kernels_config": {
    "python": {
     "delete_cmd_postfix": "",
     "delete_cmd_prefix": "del ",
     "library": "var_list.py",
     "varRefreshCmd": "print(var_dic_list())"
    },
    "r": {
     "delete_cmd_postfix": ") ",
     "delete_cmd_prefix": "rm(",
     "library": "var_list.r",
     "varRefreshCmd": "cat(var_dic_list()) "
    }
   },
   "types_to_exclude": [
    "module",
    "function",
    "builtin_function_or_method",
    "instance",
    "_Feature"
   ],
   "window_display": false
  }
 },
 "nbformat": 4,
 "nbformat_minor": 5
}
